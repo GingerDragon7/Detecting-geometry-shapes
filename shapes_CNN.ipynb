{
 "cells": [
  {
   "cell_type": "markdown",
   "metadata": {},
   "source": [
    "# DETECTING CIRCLES, SQUARES AND TRIANGLES USING CNN"
   ]
  },
  {
   "cell_type": "markdown",
   "metadata": {},
   "source": [
    "## 1. Introduction\n",
    "\n",
    "In this notebook, we are going to detect three basic geometry shapes(Circle, Triangle, Square) using Convolutional Neural Networks in just 100 lines of code. This notebook can serve as a great headstart for those who have just stepped into the world of Deep Learning.\n",
    "\n",
    "I have used skimage for reading images, sklearn for various preprocessing and evaluation task, matplotlib for visualization, and super simple Keras for CNN model. \n"
   ]
  },
  {
   "cell_type": "markdown",
   "metadata": {},
   "source": [
    "## 2. Reading dataset and preprocessing\n",
    "\n",
    "The dataset is downloaded from Kaggle(https://www.kaggle.com/cactus3/basicshapes/version/1#_=_). It contains PNG images of size 28x28 of circle, triangle, and square 100 each contained within 3 seperate directories.\n",
    "\n",
    "Here, we make one helper functions for preprocessing our data."
   ]
  },
  {
   "cell_type": "code",
   "execution_count": 17,
   "metadata": {},
   "outputs": [],
   "source": [
    "from skimage.io import imread_collection\n",
    "import numpy as np\n",
    "\n",
    "def get_images(path_to_images):\n",
    "\timages = imread_collection(path_to_images)\n",
    "\timages = np.asarray(images)\n",
    "\timages = images[:,:,:,0] # RGB channel to only Gray channel\n",
    "\timages = images.reshape(-1, 28, 28, 1)\n",
    "\timages = images.astype('float32') # converting to float from int for normalization\n",
    "\timages = images / 255 # Normalization\n",
    "\treturn images\n",
    "\n",
    "all_circles = get_images('shapes/circles/*.png')\n",
    "all_squares = get_images('shapes/squares/*.png')\n",
    "all_triangles = get_images('shapes/triangles/*.png')\n"
   ]
  },
  {
   "cell_type": "markdown",
   "metadata": {},
   "source": [
    "Now, we have three variables <b>all_circles</b>, <b>all_squares</b>, <b>all_triangles</b> each containing an <b>numpy.ndarray</b> of all images of circle, square, triangle respectively. Lets, figure out the shape of all of them."
   ]
  },
  {
   "cell_type": "code",
   "execution_count": 18,
   "metadata": {},
   "outputs": [
    {
     "name": "stdout",
     "output_type": "stream",
     "text": [
      "(100, 28, 28, 1) (100, 28, 28, 1) (100, 28, 28, 1)\n"
     ]
    }
   ],
   "source": [
    "print(all_circles.shape, all_squares.shape, all_triangles.shape)"
   ]
  },
  {
   "cell_type": "markdown",
   "metadata": {},
   "source": [
    "From the output, we make conclude that we have 100 images of each shape. Time to concatenate them to make a single feature data."
   ]
  },
  {
   "cell_type": "code",
   "execution_count": 19,
   "metadata": {},
   "outputs": [
    {
     "name": "stdout",
     "output_type": "stream",
     "text": [
      "(300, 28, 28, 1)\n"
     ]
    }
   ],
   "source": [
    "X = np.concatenate((all_circles, all_squares, all_triangles))\n",
    "print(X.shape)"
   ]
  },
  {
   "cell_type": "markdown",
   "metadata": {},
   "source": [
    "Now, we can a single <b>ndarray</b> having 300 images. Next step is to make labels or output for this feature data.\n",
    "As, <b>np.concatenate</b> concatenates linearly, we are sure that the first 100 are circles, next 100 are squares, and final 100 are triangles. We use a helper function to make a <b>ndarray</b> of labels."
   ]
  },
  {
   "cell_type": "code",
   "execution_count": 20,
   "metadata": {},
   "outputs": [
    {
     "name": "stdout",
     "output_type": "stream",
     "text": [
      "(300,)\n"
     ]
    }
   ],
   "source": [
    "def generate_labels():\n",
    "\tlabels = np.zeros(300)\n",
    "\tfor i in range(3):\n",
    "\t\tlabels[i*100:(i+1)*100] = i\n",
    "\treturn labels\n",
    "\n",
    "y = generate_labels()\n",
    "print(y.shape)"
   ]
  },
  {
   "cell_type": "markdown",
   "metadata": {},
   "source": [
    "It's not a good idea of keeping data ordered in a linear fashion. We must shuffle <b>X</b> and <b>y</b> in unison. "
   ]
  },
  {
   "cell_type": "code",
   "execution_count": 21,
   "metadata": {},
   "outputs": [],
   "source": [
    "randomize = np.arange(len(X))\n",
    "np.random.shuffle(randomize)\n",
    "X = X[randomize]\n",
    "y = y[randomize]"
   ]
  },
  {
   "cell_type": "markdown",
   "metadata": {},
   "source": [
    "## 3. Splitting the dataset and encoding"
   ]
  },
  {
   "cell_type": "markdown",
   "metadata": {},
   "source": [
    "Time to split our data into training and testing set, and yes we are going to use sklearn for it. Furthermore, as the categorical data imparts an ordinal property to data, we use one hot encoding to remove any kind of ordinal property."
   ]
  },
  {
   "cell_type": "code",
   "execution_count": 22,
   "metadata": {},
   "outputs": [
    {
     "name": "stdout",
     "output_type": "stream",
     "text": [
      "Before one-hot encoding :  1.0\n",
      "After one-hot encoding :  [0. 1. 0.]\n"
     ]
    }
   ],
   "source": [
    "# Splitting data into train and test\n",
    "from sklearn.model_selection import train_test_split\n",
    "train_X, test_X, train_y, test_y = train_test_split(X, y, test_size=0.2, random_state=13)\n",
    "\n",
    "print(\"Before one-hot encoding : \", train_y[0])\n",
    "\n",
    "# Change the labels from categorical to one-hot encoding\n",
    "from keras.utils import to_categorical\n",
    "train_y_one_hot = to_categorical(train_y)\n",
    "\n",
    "print(\"After one-hot encoding : \", train_y_one_hot[0])"
   ]
  },
  {
   "cell_type": "markdown",
   "metadata": {},
   "source": [
    "## 4. Building and training CNN Model"
   ]
  },
  {
   "cell_type": "markdown",
   "metadata": {},
   "source": [
    "First, let us import all the functions which we are going to use in making the model and also define our hyperparameters."
   ]
  },
  {
   "cell_type": "code",
   "execution_count": 24,
   "metadata": {},
   "outputs": [],
   "source": [
    "import keras\n",
    "from keras.models import Sequential,Input,Model\n",
    "from keras.layers import Dense, Dropout, Flatten\n",
    "from keras.layers import Conv2D, MaxPooling2D\n",
    "from keras.layers.normalization import BatchNormalization\n",
    "from keras.layers.advanced_activations import LeakyReLU\n",
    "\n",
    "batch_size = 15\n",
    "epochs = 20\n",
    "num_classes = 3"
   ]
  },
  {
   "cell_type": "markdown",
   "metadata": {},
   "source": [
    "As, CNN is a linear model, we use Sequential function from Keras.\n",
    "\n",
    "Non-leaky rectified linear units have a problem called “dying”. If the dot product of the input to a ReLU with its weights is negative, the output is 0. The gradient of max(x,0) is 0 when the output is 0.\n",
    "If, for whatever reason, the output of a ReLU is consistently 0 (for example, if the ReLU has a large negative bias), then the gradient through it will consistently be 0. The error signal backpropagated from later layers gets multiplied by this 0, so no error signal ever passes to earlier layers. The ReLU has died.\n",
    "If instead leaky ReLUs are used, the gradient is never 0, and this problem is avoided. \n",
    "\n",
    "You can try training the model by tuning the hyperparameters. Here we use 20 epochs with batch size of 15."
   ]
  },
  {
   "cell_type": "code",
   "execution_count": 25,
   "metadata": {},
   "outputs": [],
   "source": [
    "shapes_model = Sequential()\n",
    "shapes_model.add(Conv2D(32, kernel_size=(3, 3),activation='linear',input_shape=(28,28,1),padding='same'))\n",
    "shapes_model.add(LeakyReLU(alpha=0.1))\n",
    "shapes_model.add(MaxPooling2D((2, 2),padding='same'))\n",
    "shapes_model.add(Dropout(0.2))\n",
    "shapes_model.add(Conv2D(64, (3, 3), activation='linear',padding='same'))\n",
    "shapes_model.add(LeakyReLU(alpha=0.1))\n",
    "shapes_model.add(MaxPooling2D(pool_size=(2, 2),padding='same'))\n",
    "shapes_model.add(Dropout(0.2))\n",
    "shapes_model.add(Conv2D(128, (3, 3), activation='linear',padding='same'))\n",
    "shapes_model.add(LeakyReLU(alpha=0.1))                  \n",
    "shapes_model.add(MaxPooling2D(pool_size=(2, 2),padding='same'))\n",
    "shapes_model.add(Dropout(0.3))\n",
    "shapes_model.add(Flatten())\n",
    "shapes_model.add(Dense(128, activation='linear'))\n",
    "shapes_model.add(LeakyReLU(alpha=0.1))                  \n",
    "shapes_model.add(Dense(num_classes, activation='softmax'))"
   ]
  },
  {
   "cell_type": "markdown",
   "metadata": {},
   "source": [
    "Our model does 3 convolution operations which includes Conv2D, LeakyRelu, followed by MaxPooling2D. Dropout is added to model to avoid overfitting. It works by turning off some neurons/nodes so that no value passes from it. Time to compile and train our model. "
   ]
  },
  {
   "cell_type": "code",
   "execution_count": 26,
   "metadata": {},
   "outputs": [
    {
     "name": "stdout",
     "output_type": "stream",
     "text": [
      "Epoch 1/20\n",
      "240/240 [==============================] - 1s 5ms/step - loss: 1.1744 - acc: 0.3500\n",
      "Epoch 2/20\n",
      "240/240 [==============================] - 1s 3ms/step - loss: 1.0987 - acc: 0.3458\n",
      "Epoch 3/20\n",
      "240/240 [==============================] - 1s 4ms/step - loss: 1.1001 - acc: 0.3167\n",
      "Epoch 4/20\n",
      "240/240 [==============================] - 1s 3ms/step - loss: 1.0997 - acc: 0.3292\n",
      "Epoch 5/20\n",
      "240/240 [==============================] - 1s 4ms/step - loss: 1.0870 - acc: 0.3708\n",
      "Epoch 6/20\n",
      "240/240 [==============================] - 1s 3ms/step - loss: 1.0767 - acc: 0.3917\n",
      "Epoch 7/20\n",
      "240/240 [==============================] - 1s 4ms/step - loss: 0.9859 - acc: 0.5333\n",
      "Epoch 8/20\n",
      "240/240 [==============================] - 1s 3ms/step - loss: 0.8768 - acc: 0.6458\n",
      "Epoch 9/20\n",
      "240/240 [==============================] - 1s 3ms/step - loss: 0.7425 - acc: 0.6750\n",
      "Epoch 10/20\n",
      "240/240 [==============================] - 1s 4ms/step - loss: 0.5914 - acc: 0.7833\n",
      "Epoch 11/20\n",
      "240/240 [==============================] - 1s 4ms/step - loss: 0.4649 - acc: 0.8042\n",
      "Epoch 12/20\n",
      "240/240 [==============================] - 1s 3ms/step - loss: 0.3356 - acc: 0.8833\n",
      "Epoch 13/20\n",
      "240/240 [==============================] - 1s 4ms/step - loss: 0.2787 - acc: 0.9250\n",
      "Epoch 14/20\n",
      "240/240 [==============================] - 1s 4ms/step - loss: 0.2643 - acc: 0.9000\n",
      "Epoch 15/20\n",
      "240/240 [==============================] - 1s 4ms/step - loss: 0.2199 - acc: 0.9333\n",
      "Epoch 16/20\n",
      "240/240 [==============================] - 1s 4ms/step - loss: 0.1273 - acc: 0.9708\n",
      "Epoch 17/20\n",
      "240/240 [==============================] - 1s 3ms/step - loss: 0.0855 - acc: 0.9750\n",
      "Epoch 18/20\n",
      "240/240 [==============================] - 1s 3ms/step - loss: 0.0528 - acc: 0.9958\n",
      "Epoch 19/20\n",
      "240/240 [==============================] - 1s 4ms/step - loss: 0.0343 - acc: 0.9917\n",
      "Epoch 20/20\n",
      "240/240 [==============================] - 1s 4ms/step - loss: 0.0811 - acc: 0.9750\n"
     ]
    }
   ],
   "source": [
    "shapes_model.compile(loss=keras.losses.categorical_crossentropy, optimizer=keras.optimizers.Adam(),metrics=['accuracy'])\n",
    "\n",
    "shapes_train = shapes_model.fit(train_X, train_y_one_hot, batch_size=batch_size,epochs=epochs,verbose=1)"
   ]
  },
  {
   "cell_type": "markdown",
   "metadata": {},
   "source": [
    "## 5. Testing\n",
    "\n",
    "After compilation and training, it's time to check how good our model is. We use the test dataset and feed it into trained model to predict the classes of each images. After that we use <b>np.argmax</b> to find the highest probability class of each image because we used softmax activation function in our model."
   ]
  },
  {
   "cell_type": "code",
   "execution_count": 44,
   "metadata": {},
   "outputs": [
    {
     "name": "stdout",
     "output_type": "stream",
     "text": [
      "Found 55 correct labels\n",
      "Found 5 incorrect labels\n"
     ]
    }
   ],
   "source": [
    "predicted_classes = shapes_model.predict(test_X)\n",
    "predicted_classes = np.argmax(np.round(predicted_classes),axis=1)\n",
    "\n",
    "correct = np.where(predicted_classes==test_y)[0]\n",
    "print(\"Found %d correct labels\" % len(correct))\n",
    "incorrect = np.where(predicted_classes!=test_y)[0]\n",
    "print(\"Found %d incorrect labels\" % len(incorrect))"
   ]
  },
  {
   "cell_type": "markdown",
   "metadata": {},
   "source": [
    "## 6. Visualizing correct and incorrect predictions\n",
    "\n",
    "First, let us visualize some test images were our model predicted correctly. Before that let us make a helper function to convert class name to geometry shape name which will help while visualization."
   ]
  },
  {
   "cell_type": "code",
   "execution_count": 45,
   "metadata": {},
   "outputs": [],
   "source": [
    "def to_name(num):\n",
    "\treturn ['Circle','Square', 'Triangle'][int(num)]"
   ]
  },
  {
   "cell_type": "code",
   "execution_count": 46,
   "metadata": {},
   "outputs": [
    {
     "data": {
      "image/png": "[encoded data removed]",
      "text/plain": [
       "<matplotlib.figure.Figure at 0x7f14ac068278>"
      ]
     },
     "metadata": {},
     "output_type": "display_data"
    },
    {
     "data": {
      "image/png": "[encoded data removed]",
      "text/plain": [
       "<matplotlib.figure.Figure at 0x7f14ac0e8080>"
      ]
     },
     "metadata": {},
     "output_type": "display_data"
    },
    {
     "data": {
      "image/png": "[encoded data removed]",
      "text/plain": [
       "<matplotlib.figure.Figure at 0x7f14a464e048>"
      ]
     },
     "metadata": {},
     "output_type": "display_data"
    },
    {
     "data": {
      "image/png": "[encoded data removed]",
      "text/plain": [
       "<matplotlib.figure.Figure at 0x7f14725e7208>"
      ]
     },
     "metadata": {},
     "output_type": "display_data"
    },
    {
     "data": {
      "image/png": "[encoded data removed]",
      "text/plain": [
       "<matplotlib.figure.Figure at 0x7f1472556cc0>"
      ]
     },
     "metadata": {},
     "output_type": "display_data"
    }
   ],
   "source": [
    "import matplotlib.pyplot as plt\n",
    "%matplotlib inline\n",
    "for i, correct in enumerate(correct[:5]):\n",
    "    plt.imshow(test_X[correct].reshape(28,28), cmap='gray', interpolation='none')\n",
    "    plt.title(\"Predicted {}, Class {}\".format(to_name(predicted_classes[correct]), to_name(test_y[correct])))\n",
    "    plt.tight_layout()\n",
    "    plt.show()\n"
   ]
  },
  {
   "cell_type": "code",
   "execution_count": 47,
   "metadata": {},
   "outputs": [
    {
     "data": {
      "image/png": "[encoded data removed]",
      "text/plain": [
       "<matplotlib.figure.Figure at 0x7f14a47a2940>"
      ]
     },
     "metadata": {},
     "output_type": "display_data"
    },
    {
     "data": {
      "image/png": "[encoded data removed]",
      "text/plain": [
       "<matplotlib.figure.Figure at 0x7f14724d8a90>"
      ]
     },
     "metadata": {},
     "output_type": "display_data"
    },
    {
     "data": {
      "image/png": "[encoded data removed]",
      "text/plain": [
       "<matplotlib.figure.Figure at 0x7f147245ff28>"
      ]
     },
     "metadata": {},
     "output_type": "display_data"
    },
    {
     "data": {
      "image/png": "[encoded data removed]",
      "text/plain": [
       "<matplotlib.figure.Figure at 0x7f14724f5cc0>"
      ]
     },
     "metadata": {},
     "output_type": "display_data"
    },
    {
     "data": {
      "image/png": "[encoded data removed]",
      "text/plain": [
       "<matplotlib.figure.Figure at 0x7f147238f908>"
      ]
     },
     "metadata": {},
     "output_type": "display_data"
    }
   ],
   "source": [
    "for i, incorrect in enumerate(incorrect[:5]):\n",
    "    # plt.subplot(3,3,i+1)\n",
    "    plt.imshow(test_X[incorrect].reshape(28,28), cmap='gray', interpolation='none')\n",
    "    plt.title(\"Predicted {}, Class {}\".format(to_name(predicted_classes[incorrect]), to_name(test_y[incorrect])))\n",
    "    plt.tight_layout()\n",
    "    plt.show()"
   ]
  },
  {
   "cell_type": "markdown",
   "metadata": {},
   "source": [
    "## 7. Conclusion"
   ]
  },
  {
   "cell_type": "markdown",
   "metadata": {},
   "source": [
    "We conclude by generating the classification report."
   ]
  },
  {
   "cell_type": "code",
   "execution_count": 48,
   "metadata": {},
   "outputs": [
    {
     "name": "stdout",
     "output_type": "stream",
     "text": [
      "             precision    recall  f1-score   support\n",
      "\n",
      "    Class 0       0.94      0.83      0.88        18\n",
      "    Class 1       0.87      1.00      0.93        20\n",
      "    Class 2       0.95      0.91      0.93        22\n",
      "\n",
      "avg / total       0.92      0.92      0.92        60\n",
      "\n"
     ]
    }
   ],
   "source": [
    "from sklearn.metrics import classification_report\n",
    "target_names = [\"Class {}\".format(i) for i in range(num_classes)]\n",
    "print(classification_report(test_y, predicted_classes, target_names=target_names))"
   ]
  },
  {
   "cell_type": "markdown",
   "metadata": {},
   "source": []
  }
 ],
 "metadata": {
  "kernelspec": {
   "display_name": "Python 3",
   "language": "python",
   "name": "python3"
  },
  "language_info": {
   "codemirror_mode": {
    "name": "ipython",
    "version": 3
   },
   "file_extension": ".py",
   "mimetype": "text/x-python",
   "name": "python",
   "nbconvert_exporter": "python",
   "pygments_lexer": "ipython3",
   "version": "3.6.4"
  }
 },
 "nbformat": 4,
 "nbformat_minor": 2
}
